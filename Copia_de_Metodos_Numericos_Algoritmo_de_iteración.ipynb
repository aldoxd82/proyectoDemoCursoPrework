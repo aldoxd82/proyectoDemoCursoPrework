{
  "nbformat": 4,
  "nbformat_minor": 0,
  "metadata": {
    "colab": {
      "name": "Copia de Metodos Numericos_Algoritmo de iteración.ipynb",
      "provenance": [],
      "collapsed_sections": [],
      "include_colab_link": true
    },
    "kernelspec": {
      "display_name": "Python 3.6",
      "language": "python",
      "name": "python36"
    },
    "language_info": {
      "codemirror_mode": {
        "name": "ipython",
        "version": 3
      },
      "file_extension": ".py",
      "mimetype": "text/x-python",
      "name": "python",
      "nbconvert_exporter": "python",
      "pygments_lexer": "ipython3",
      "version": "3.6.6"
    }
  },
  "cells": [
    {
      "cell_type": "markdown",
      "metadata": {
        "id": "view-in-github",
        "colab_type": "text"
      },
      "source": [
        "<a href=\"https://colab.research.google.com/github/aldoxd82/proyectoDemoCursoPrework-test/blob/master/Copia_de_Metodos_Numericos_Algoritmo_de_iteraci%C3%B3n.ipynb\" target=\"_parent\"><img src=\"https://colab.research.google.com/assets/colab-badge.svg\" alt=\"Open In Colab\"/></a>"
      ]
    },
    {
      "cell_type": "markdown",
      "metadata": {
        "id": "zvhXyqUbzp6o"
      },
      "source": [
        "# Algoritmo de iteración \n",
        "\n",
        "Una técnica usual presente en la mayoría de métodos numéricos consiste en aplicar un algorimo a un valor inicial para calcular una aproximación de un valor de un modelo matemático. \n",
        "\n",
        "Aunque sencillo, el método requiere de un control que guíe el flujo del programa. \n",
        "\n",
        "## Convergencia\n",
        "\n",
        "Dada una función $f(x)$ y un valor inicial $x_0$, es posible calcular el resultado de aplicar la función a un valor tal que:\n",
        "\n",
        "$$x_1=f(x_0)$$\n",
        "$$x_2=f(x_1)$$\n",
        "$$x_3=f(x_2)$$\n",
        "$$...$$\n",
        "\n",
        "$$x_i=f(x_{i-1})$$\n",
        "\n",
        "Donde cada valor de x será diferente al anterior.\n",
        "\n",
        "Por otra parte, existen funciones donde cada valor caluclado de x será cada vez más parecido al valor anterior, hasta que dejen de cambiar.\n",
        "\n",
        "$$x_1=f(x_0)$$\n",
        "$$x_2=f(x_1)$$\n",
        "$$x_3=f(x_2)$$\n",
        "$$...$$\n",
        "$$x_{i-1}=f(x_{i-2})$$\n",
        "$$x_i=f(x_{i-1})$$\n",
        "$$x_i=f(x_{i})$$\n",
        "\n",
        "# Experimento de convergencia.\n",
        "\n",
        "* Usando tu calculadora en modo grados sexagesimales, calcula $cos(0)$ de manera iterativa. ¿Qué sucede?\n",
        "\n",
        "* Ahora, utiliza tu caculadora en modo radianes y vuelve a repetir el experimento. ¿Qué sucede?\n",
        "\n",
        "Por lo tanto, se hace necesario considerar si la función converge o no dentro de un rango \"razonable de iteraciones\".\n",
        "\n",
        "A continuación mostramos un ejemplo de pseudo código de un método iterativo y que implementaremos posteriormente usando Python.\n",
        "\n"
      ]
    },
    {
      "cell_type": "markdown",
      "metadata": {
        "collapsed": true,
        "id": "EEyvihwHUu5A"
      },
      "source": [
        "\n",
        "\n",
        "```\n",
        "\n",
        "CurrentValue  ←  Initial Value \n",
        "IterationCounter  ←  0 \n",
        "IterationMaximum  ←  Maximum Iteration \n",
        "Threshold ErrorMinimum  ←  Minimum Relative Error Threshold \n",
        "\n",
        "WHILE (TRUE): \n",
        "    PreviousValue  ←  CurrentValue \n",
        "    CurrentValue  ←  CALL F(CurrentValue) \n",
        "    IterationCounter  ←  IterationCounter + 1 \n",
        "    CurrentError  ←  absolute((PreviousValue - CurrentValue)/ CurrentValue) \n",
        "    \n",
        "    IF (CurrentError <= ErrorMinimum)  \n",
        "        RETURN Success \n",
        "    ELSE IF(IterationCounter = IterationMaximum) \n",
        "    \n",
        "        RETURN Failure \n",
        "    END IF \n",
        "END WHILE \n",
        "\n",
        "FUNCTION F(x) \n",
        "    RETURN compute a result given an input variable x \n",
        "END FUNCTION    \n",
        "\n",
        "```\n",
        "Tomado de: Numerical methods and modelling for engineering, pag 36\n",
        "Khoury R. & Harder D. Springerlink"
      ]
    },
    {
      "cell_type": "code",
      "metadata": {
        "id": "JpiWE3U7Uu7y"
      },
      "source": [
        "import math\n",
        "\n",
        "def AlgIterativo(valorActual,iteracionMaxima,errorMinimo):\n",
        "  \n",
        "  valorAnterior=0\n",
        "  contadorIteraciones=0\n",
        "  errorActual=0\n",
        "  vectorX=[]   #nuevo\n",
        "  vectorY=[] #nuevo\n",
        "  \n",
        "  while(True):\n",
        "    valorAnterior=valorActual\n",
        "    valorActual=f(valorActual)    \n",
        "    contadorIteraciones=contadorIteraciones+1\n",
        "    errorActual=abs((valorAnterior-valorActual)/valorActual)\n",
        "\n",
        "    vectorX.append(contadorIteraciones)\n",
        "    vectorY.append(valorActual)\n",
        "\n",
        "    if (errorActual<=errorMinimo):\n",
        "      print(\"Iteración \" + str(contadorIteraciones) + \": \" + str(valorActual))\n",
        "      plt.figure(figsize=(9, 3))\n",
        "      \n",
        "      plt.subplot(211)  #nuevo\n",
        "      plt.scatter(vectorX, vectorY, color=\"green\") #nuevo\n",
        "      plt.ylabel('Aproximaciones')\n",
        "      plt.xlabel('Iteraciones')\n",
        "      \n",
        "      plt.subplot(212)  #nuevo\n",
        "      plt.plot(vectorX, vectorY, color=\"green\") #nuevo\n",
        "      plt.ylabel('Aproximaciones')\n",
        "      plt.xlabel('Iteraciones')\n",
        "\n",
        "      plt.show()#nuevo\n",
        "      return valorActual\n",
        "\n",
        "    elif (contadorIteraciones==iteracionMaxima):\n",
        "      print(\"Se alcanzaron las iteraciones máximas\")\n",
        "\n",
        "      break\n",
        "    #print(\"Iteración \" + str(contadorIteraciones) + \": \" + str(valorActual))\n",
        "\n",
        "def f(x):\n",
        "  return math.cos(x)\n",
        "  \n"
      ],
      "execution_count": null,
      "outputs": []
    },
    {
      "cell_type": "code",
      "metadata": {
        "colab": {
          "base_uri": "https://localhost:8080/",
          "height": 262
        },
        "id": "efxAbblJkTyb",
        "outputId": "d33504da-dd98-46b2-dbd8-af08a7979c0d"
      },
      "source": [
        "AlgIterativo(0,500,0.001)"
      ],
      "execution_count": null,
      "outputs": [
        {
          "output_type": "stream",
          "name": "stdout",
          "text": [
            "Iteración 19: 0.7393038923969059\n"
          ]
        },
        {
          "output_type": "display_data",
          "data": {
            "image/png": "[encoded data removed]",
            "text/plain": [
              "<Figure size 648x216 with 2 Axes>"
            ]
          },
          "metadata": {
            "needs_background": "light"
          }
        },
        {
          "output_type": "execute_result",
          "data": {
            "text/plain": [
              "0.7393038923969059"
            ]
          },
          "metadata": {},
          "execution_count": 4
        }
      ]
    },
    {
      "cell_type": "markdown",
      "metadata": {
        "id": "t4YEOfqI9pOe"
      },
      "source": [
        "Resolviendo el ejercicio 1.12 Chapra\n",
        "\n",
        "$$\\frac{dc}{dt}=-kc, t\\in [0,1]$$\n",
        "Con las condiciones:\n",
        "$$ k=0.2, \\Delta t=0.1d^{-1},c(0)=10 Bq/L$$\n",
        "Aproximamos:\n",
        "\n",
        "$$c(t_{i+1})=c(t_i)-0.2 \\cdot c(t_i)-0.2c(t_i) \\cdot \\Delta t$$"
      ]
    },
    {
      "cell_type": "code",
      "metadata": {
        "id": "z_DfInWd-3Gg"
      },
      "source": [
        "import math\n",
        "import matplotlib.pyplot as plt\n",
        "import numpy as np\n",
        "\n",
        "\n",
        "\n",
        "def AlgEuler(vInicial,lInf,lSup,paso):\n",
        "  \n",
        "  valorAnterior=0\n",
        "  contadorIteraciones=0\n",
        "  iteracionMaxima=int((lSup-lInf)/paso)\n",
        "  \n",
        "  vectorX=[]   \n",
        "  vectorY=[] \n",
        "  \n",
        "  while contadorIteraciones<iteracionMaxima :\n",
        "    valorAnterior=vInicial\n",
        "    vInicial=f(vInicial,paso)    \n",
        "    contadorIteraciones=contadorIteraciones+1    \n",
        "    vectorX.append(contadorIteraciones)\n",
        "    vectorY.append(vInicial)\n",
        "    print(\"Iteración \" + str(contadorIteraciones) + \": \" + str(vInicial))\n",
        "\n",
        "  grafica(vectorX,vectorY)\n",
        "\n",
        "\n",
        "def f(x,paso):\n",
        "  return x-0.2*x*paso\n",
        "\n",
        "def grafica(vectorX,vectorY):\n",
        "  \n",
        "  plt.figure(figsize=(9, 3)) \n",
        "  plt.subplot(211) \n",
        "  plt.grid(True) \n",
        "  plt.plot(vectorX, vectorY, color=\"green\") \n",
        "  plt.ylabel('Aproximaciones')\n",
        "  plt.xlabel('Iteraciones')\n",
        "      \n",
        "  plt.subplot(212)  \n",
        "  plt.yscale('log')\n",
        "  plt.grid(True)\n",
        "  plt.plot(vectorX, vectorY, color=\"green\") \n",
        "  plt.ylabel('Aproximaciones')\n",
        "  plt.xlabel('Iteraciones')"
      ],
      "execution_count": null,
      "outputs": []
    },
    {
      "cell_type": "code",
      "metadata": {
        "colab": {
          "base_uri": "https://localhost:8080/",
          "height": 398
        },
        "id": "2OswGxKAEEmY",
        "outputId": "7ee161b6-d454-49fc-d3ef-39c6a983a571"
      },
      "source": [
        "AlgEuler(10,0,1,0.1)"
      ],
      "execution_count": null,
      "outputs": [
        {
          "output_type": "stream",
          "name": "stdout",
          "text": [
            "Iteración 1: 9.8\n",
            "Iteración 2: 9.604000000000001\n",
            "Iteración 3: 9.41192\n",
            "Iteración 4: 9.2236816\n",
            "Iteración 5: 9.039207968000001\n",
            "Iteración 6: 8.858423808640001\n",
            "Iteración 7: 8.6812553324672\n",
            "Iteración 8: 8.507630225817856\n",
            "Iteración 9: 8.337477621301499\n",
            "Iteración 10: 8.17072806887547\n"
          ]
        },
        {
          "output_type": "display_data",
          "data": {
            "image/png": "[encoded data removed]",
            "text/plain": [
              "<Figure size 648x216 with 2 Axes>"
            ]
          },
          "metadata": {
            "needs_background": "light"
          }
        }
      ]
    },
    {
      "cell_type": "code",
      "metadata": {
        "colab": {
          "base_uri": "https://localhost:8080/",
          "height": 265
        },
        "id": "QOxUpe5snYjS",
        "outputId": "acf7c3b9-6211-4430-a727-25cccbf08cfd"
      },
      "source": [
        "import numpy as np\n",
        "import matplotlib.pyplot as plt\n",
        "\n",
        "x = [1,2,3,4,5,6,7,8,9,10]\n",
        "y = [1,4,9,16,25,36,49,64,81,100]\n",
        "\n",
        "plt.scatter(x, y, color=\"green\")\n",
        "plt.show()"
      ],
      "execution_count": null,
      "outputs": [
        {
          "data": {
            "image/png": "[encoded data removed]",
            "text/plain": [
              "<Figure size 432x288 with 1 Axes>"
            ]
          },
          "metadata": {},
          "output_type": "display_data"
        }
      ]
    },
    {
      "cell_type": "code",
      "metadata": {
        "colab": {
          "base_uri": "https://localhost:8080/",
          "height": 233
        },
        "id": "4GBwHqEbwMNh",
        "outputId": "084805bb-14a3-47ac-ae0c-ab4448a911b0"
      },
      "source": [
        "names = ['group_a', 'group_b', 'group_c']\n",
        "values = [1, 10, 100]\n",
        "\n",
        "plt.figure(figsize=(9, 3))\n",
        "\n",
        "plt.subplot(131)\n",
        "plt.bar(names, values)\n",
        "plt.subplot(132)\n",
        "plt.scatter(names, values)\n",
        "plt.subplot(133)\n",
        "plt.plot(names, values)\n",
        "plt.suptitle('Categorical Plotting')\n",
        "plt.show()\n"
      ],
      "execution_count": null,
      "outputs": [
        {
          "data": {
            "image/png": "[encoded data removed]",
            "text/plain": [
              "<Figure size 648x216 with 3 Axes>"
            ]
          },
          "metadata": {},
          "output_type": "display_data"
        }
      ]
    },
    {
      "cell_type": "code",
      "metadata": {
        "id": "E8fsFsmgw4IU"
      },
      "source": [
        ""
      ],
      "execution_count": null,
      "outputs": []
    },
    {
      "cell_type": "markdown",
      "metadata": {
        "id": "EUzTFXFJmSrZ"
      },
      "source": [
        "Cambiamos el estilo de la grafica\n"
      ]
    },
    {
      "cell_type": "code",
      "metadata": {
        "id": "FvYMb_lBmW3k"
      },
      "source": [
        "import math\n",
        "import matplotlib.pyplot as plt\n",
        "import numpy as np\n",
        "\n",
        "def AlgEuler(vInicial,lInf,lSup,paso): \n",
        "  valorAnterior=0\n",
        "  contadorIteraciones=0\n",
        "  contadorPaso=0\n",
        "  iteracionMaxima=int((lSup-lInf)/paso)\n",
        "  \n",
        "  vectorX=[]   \n",
        "  vectorY=[]\n",
        "  \n",
        "  while contadorIteraciones<iteracionMaxima :\n",
        "    valorAnterior=vInicial\n",
        "    vInicial=f(vInicial,paso)    \n",
        "    contadorIteraciones=contadorIteraciones+1  \n",
        "    contadorPaso=contadorPaso+0.1  \n",
        "    vectorX.append(contadorPaso)\n",
        "    vectorY.append(vInicial)\n",
        "    print(\"Tiempo \" + str(contadorPaso) + \": \" + str(vInicial))\n",
        "\n",
        "  grafica(vectorX,vectorY)\n",
        "\n",
        "def f(x,paso):\n",
        "  return x-0.2*x*paso\n",
        "\n",
        "def grafica(vectorX,vectorY):\n",
        "  \n",
        "  plt.figure(figsize=(12, 6))  \n",
        "  plt.yscale('log')\n",
        "  plt.grid(True)\n",
        "  #plt.xticks(range(1))\n",
        "  plt.plot(vectorX, vectorY, color=\"green\") \n",
        "  plt.ylabel('decaimiento')\n",
        "  plt.xlabel('tiempo')"
      ],
      "execution_count": null,
      "outputs": []
    },
    {
      "cell_type": "code",
      "metadata": {
        "colab": {
          "base_uri": "https://localhost:8080/",
          "height": 558
        },
        "id": "7YJqFpAvmd4H",
        "outputId": "7a9457e0-5d3c-4c13-baad-7afbaec95f1e"
      },
      "source": [
        "AlgEuler(10,0,1,0.1)"
      ],
      "execution_count": null,
      "outputs": [
        {
          "output_type": "stream",
          "name": "stdout",
          "text": [
            "Tiempo 0.1: 9.8\n",
            "Tiempo 0.2: 9.604000000000001\n",
            "Tiempo 0.30000000000000004: 9.41192\n",
            "Tiempo 0.4: 9.2236816\n",
            "Tiempo 0.5: 9.039207968000001\n",
            "Tiempo 0.6: 8.858423808640001\n",
            "Tiempo 0.7: 8.6812553324672\n",
            "Tiempo 0.7999999999999999: 8.507630225817856\n",
            "Tiempo 0.8999999999999999: 8.337477621301499\n",
            "Tiempo 0.9999999999999999: 8.17072806887547\n"
          ]
        },
        {
          "output_type": "display_data",
          "data": {
            "image/png": "[encoded data removed]",
            "text/plain": [
              "<Figure size 864x432 with 1 Axes>"
            ]
          },
          "metadata": {
            "needs_background": "light"
          }
        }
      ]
    },
    {
      "cell_type": "code",
      "metadata": {
        "id": "l_K2SvoUmeVw"
      },
      "source": [
        ""
      ],
      "execution_count": null,
      "outputs": []
    }
  ]
}