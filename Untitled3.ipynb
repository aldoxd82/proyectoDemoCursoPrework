{
  "nbformat": 4,
  "nbformat_minor": 0,
  "metadata": {
    "colab": {
      "name": "Untitled3.ipynb",
      "provenance": [],
      "collapsed_sections": [],
      "include_colab_link": true
    },
    "kernelspec": {
      "name": "python3",
      "display_name": "Python 3"
    },
    "language_info": {
      "name": "python"
    }
  },
  "cells": [
    {
      "cell_type": "markdown",
      "metadata": {
        "id": "view-in-github",
        "colab_type": "text"
      },
      "source": [
        "<a href=\"https://colab.research.google.com/github/aldoxd82/proyectoDemoCursoPrework-test/blob/master/Untitled3.ipynb\" target=\"_parent\"><img src=\"https://colab.research.google.com/assets/colab-badge.svg\" alt=\"Open In Colab\"/></a>"
      ]
    },
    {
      "cell_type": "code",
      "metadata": {
        "id": "SGDOP_QUHcJ-"
      },
      "source": [
        "from sympy import *\n",
        "import matplotlib.pyplot as plt"
      ],
      "execution_count": null,
      "outputs": []
    },
    {
      "cell_type": "code",
      "metadata": {
        "id": "suxOrl5zHkaX"
      },
      "source": [
        "def f(x):\n",
        "  return x**3+13*x**2-8*x+2\n",
        "\n",
        "def bisect(xl,xu,es,imax,xr):\n",
        "  iter=0\n",
        "  ea=0\n",
        "  while True:\n",
        "\n",
        "    xrold = xr\n",
        "    xr = (xl+xu)/2\n",
        "  \n",
        "    iter = iter+1\n",
        "    print (\"Iteracion: \"+str(iter)+ \"xr: \" +str(xr)+ \" ea: \"+ str(ea))\n",
        "    if (xr != 0):\n",
        "       ea= abs((xr-xrold)/xr)*100\n",
        "       test= f(xl)*f(xr)\n",
        "       if (test<0):\n",
        "         xu=xr\n",
        "       elif (test>0):\n",
        "           xl=xr\n",
        "           \n",
        "    else :\n",
        "      ea=0\n",
        "\n",
        "    if (ea<es or iter >= imax) :\n",
        "     \n",
        "     break"
      ],
      "execution_count": null,
      "outputs": []
    },
    {
      "cell_type": "code",
      "metadata": {
        "colab": {
          "base_uri": "https://localhost:8080/"
        },
        "id": "1loud0gD28nx",
        "outputId": "927c342a-c268-49dd-e667-a26c89897ac8"
      },
      "source": [
        "bisect(-15,14,0.1,200,10)"
      ],
      "execution_count": null,
      "outputs": [
        {
          "output_type": "stream",
          "name": "stdout",
          "text": [
            "Iteracion: 1xr: -0.5 ea: 0\n",
            "Iteracion: 2xr: -7.75 ea: 2100.0\n",
            "Iteracion: 3xr: -11.375 ea: 93.54838709677419\n",
            "Iteracion: 4xr: -13.1875 ea: 31.868131868131865\n",
            "Iteracion: 5xr: -14.09375 ea: 13.744075829383887\n",
            "Iteracion: 6xr: -13.640625 ea: 6.430155210643015\n",
            "Iteracion: 7xr: -13.4140625 ea: 3.3218785796105386\n",
            "Iteracion: 8xr: -13.52734375 ea: 1.68899242865463\n",
            "Iteracion: 9xr: -13.583984375 ea: 0.837424198671672\n",
            "Iteracion: 10xr: -13.6123046875 ea: 0.41696621135873474\n",
            "Iteracion: 11xr: -13.59814453125 ea: 0.20804935791663678\n",
            "Iteracion: 12xr: -13.605224609375 ea: 0.10413300298035837\n"
          ]
        }
      ]
    }
  ]
}