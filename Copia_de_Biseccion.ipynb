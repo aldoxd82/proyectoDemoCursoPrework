{
  "nbformat": 4,
  "nbformat_minor": 0,
  "metadata": {
    "kernelspec": {
      "display_name": "Python 3",
      "language": "python",
      "name": "python3"
    },
    "language_info": {
      "codemirror_mode": {
        "name": "ipython",
        "version": 3
      },
      "file_extension": ".py",
      "mimetype": "text/x-python",
      "name": "python",
      "nbconvert_exporter": "python",
      "pygments_lexer": "ipython3",
      "version": "3.6.2"
    },
    "colab": {
      "name": "Copia de Biseccion.ipynb",
      "provenance": [],
      "collapsed_sections": [],
      "include_colab_link": true
    }
  },
  "cells": [
    {
      "cell_type": "markdown",
      "metadata": {
        "id": "view-in-github",
        "colab_type": "text"
      },
      "source": [
        "<a href=\"https://colab.research.google.com/github/aldoxd82/proyectoDemoCursoPrework-test/blob/master/Copia_de_Biseccion.ipynb\" target=\"_parent\"><img src=\"https://colab.research.google.com/assets/colab-badge.svg\" alt=\"Open In Colab\"/></a>"
      ]
    },
    {
      "cell_type": "markdown",
      "metadata": {
        "id": "qkvQnEOqtMje"
      },
      "source": [
        "# Método de bisección\n",
        "El siguiente programa implementa el método de bisección"
      ]
    },
    {
      "cell_type": "code",
      "metadata": {
        "colab": {
          "base_uri": "https://localhost:8080/",
          "height": 320
        },
        "id": "-Tv-IRxKtMjq",
        "outputId": "60f9c8e6-53fa-4f4c-da29-5c1b5c32d6d1"
      },
      "source": [
        "import math\n",
        "from sympy import *\n",
        "import matplotlib.pyplot as plt\n",
        "import numpy as np\n",
        "from numpy import sin\n",
        "\n",
        "x=symbols('x')\n",
        "function=sympify('x^2-x-6')\n",
        "\n",
        "\n",
        "xl= -3      #Limite superior del intervalo\n",
        "xu= 3     #Limite inferior del intervalo\n",
        "e=[100]    #Lista de errores\n",
        "xr=[]      #Lista de aproximaciones\n",
        "n=0        #Número de iteraciones\n",
        "tol=0.1    #Tolerancia\n",
        "\n",
        "#Evalua la funcion f(x) en f(a)\n",
        "def f(a):\n",
        "    return function.subs(x,a).evalf()\n",
        "\n",
        "#Grafica\n",
        "xVector=np.arange(xl-1, xu+1, 0.1)\n",
        "y = [x**2-x-6 for x in xVector]\n",
        "plt.plot(xVector,y)\n",
        "plt.axhline(0, color='black')\n",
        "plt.axvline(0, color='black')\n",
        "plt.show()\n",
        "\n",
        "print('Probamos f('  +str(xl)+   ')*f('  + str(xu) +')=' + str(f(xl)*f(xu)) +'\\n')\n",
        "\n",
        "if(f(xl)*f(xu)<0):   #Es negativo, hay raiz en [xl,xu]\n",
        "    print('Hay cambio de signo, entonces existe al menos una raíz real en el intervalo, empezamos a iterar \\n' )\n",
        "    while(e[n]>tol):\n",
        "        xr.append((xl+xu)/2)\n",
        "        if(f(xl)*f(xr[n])<0):  #Hay raiz en el intervalo [xl,xr]\n",
        "            xu=xr[n]\n",
        "        else:\n",
        "            xl=xr[n]\n",
        "        \n",
        "        if n>0:\n",
        "            e.append(abs((xr[n]-xr[n-1])/xr[n])*100)\n",
        "        else:\n",
        "            e.append(100)        \n",
        "        print(\"Iteración: \" + str(n+1))\n",
        "        print('Aproximación: '+ str(xr[n]))\n",
        "        print('Error: '+ str(e[n]))\n",
        "        print()\n",
        "        n=n+1\n",
        "        \n",
        "elif (f(xl)*f(xu)>0): #No es negativo, no hay raiz en [xl,xu]\n",
        "  print('No hay cambio de signo en el intervalo [' + str(xl) + \",\" + str(xu) +\"]\")\n",
        "else:                 #Existe raíz en los extremos del intervalo\n",
        "  if(f(xl)==0):\n",
        "    print(\"La raíz está en el extremo inferior del intervalo: \" +str(xl))\n",
        "  if(f(xu)==0):\n",
        "    print(\"La raíz está en el extremo superior del intervalo: \" +str(xu))"
      ],
      "execution_count": null,
      "outputs": [
        {
          "output_type": "display_data",
          "data": {
            "image/png": "[encoded data removed]",
            "text/plain": [
              "<Figure size 432x288 with 1 Axes>"
            ]
          },
          "metadata": {
            "needs_background": "light"
          }
        },
        {
          "output_type": "stream",
          "name": "stdout",
          "text": [
            "Probamos f(-3)*f(3)=0\n",
            "\n",
            "La raíz está en el extremo superior del intervalo: 3\n"
          ]
        }
      ]
    },
    {
      "cell_type": "code",
      "metadata": {
        "id": "JxGPYi5Cv-7Z"
      },
      "source": [
        ""
      ],
      "execution_count": null,
      "outputs": []
    },
    {
      "cell_type": "markdown",
      "metadata": {
        "id": "W1aqLyK6tMjt"
      },
      "source": [
        "Con la modificación de la formula de bisección $x_r=\\frac{x_l+x_u}{2}$ por:\n",
        "$$ x_r= x_u-\\frac{f(x_u)(x_l-x_u)}{f(x_l)-f(x_u)}$$\n",
        "Obtenemos un programa que aproxima la raíz de una función por el método de la regla falsa"
      ]
    },
    {
      "cell_type": "code",
      "metadata": {
        "id": "vjL-yQwvtMjv"
      },
      "source": [
        ""
      ],
      "execution_count": null,
      "outputs": []
    },
    {
      "cell_type": "code",
      "metadata": {
        "id": "NBTgF3TstMj1"
      },
      "source": [
        ""
      ],
      "execution_count": null,
      "outputs": []
    }
  ]
}